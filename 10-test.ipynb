{
 "cells": [
  {
   "cell_type": "markdown",
   "metadata": {},
   "source": [
    "Write a function, is_vowel that returns the value true if a given character is a vowel, and otherwise returns false. Write another function main, in main() function accept a string from user and count number of vowels in that string."
   ]
  },
  {
   "cell_type": "code",
   "execution_count": 28,
   "metadata": {},
   "outputs": [],
   "source": [
    "def isVowel(ch):\n",
    "  if ch in 'aeiouAEIOU':\n",
    "    return True\n",
    "  return False"
   ]
  },
  {
   "cell_type": "code",
   "execution_count": 29,
   "metadata": {},
   "outputs": [
    {
     "name": "stdout",
     "output_type": "stream",
     "text": [
      "grapes\n",
      "Vowels: 2\n"
     ]
    }
   ],
   "source": [
    "def main():\n",
    "  st = input(\"Enter string: \")\n",
    "  print(st)\n",
    "\n",
    "  count = 0\n",
    "  for ch in st:\n",
    "    if isVowel(ch):\n",
    "      count += 1\n",
    "  print(\"Vowels:\", count)\n",
    "main()"
   ]
  },
  {
   "cell_type": "markdown",
   "metadata": {},
   "source": [
    "Write a program in python that accepts a string to setup a password. Your entered password must meet the following requirements:\n",
    " * The password must be at least eight characters long.\n",
    " * It must contain at least one uppercase letter.\n",
    " * It must contain at least one lowercase letter.\n",
    " * It must contain at least one numeric digit."
   ]
  },
  {
   "cell_type": "code",
   "execution_count": 30,
   "metadata": {},
   "outputs": [
    {
     "name": "stdout",
     "output_type": "stream",
     "text": [
      "Yash123\n",
      "Password is accepted.\n"
     ]
    }
   ],
   "source": [
    "password = input('Enter password: ')\n",
    "containsUpperCase = False\n",
    "containsLowerCase = False\n",
    "containsDigit = False\n",
    "\n",
    "print(password)\n",
    "\n",
    "for ch in password:\n",
    "  if (ch.isupper()):\n",
    "    containsUpperCase = True\n",
    "  elif (ch.islower()):\n",
    "    containsLowerCase = True\n",
    "  elif (ch.isdigit()):\n",
    "    containsDigit = True\n",
    "\n",
    "if (containsUpperCase and containsLowerCase and containsDigit):\n",
    "  print(\"Password is accepted.\")\n",
    "else:\n",
    "  print(\"Password is not accepted\")"
   ]
  },
  {
   "cell_type": "markdown",
   "metadata": {},
   "source": [
    "Write a program that accepts a list from user. Your program should reverse the content of list and display it. Do not use reverse() method."
   ]
  },
  {
   "cell_type": "code",
   "execution_count": 31,
   "metadata": {},
   "outputs": [
    {
     "name": "stdout",
     "output_type": "stream",
     "text": [
      "['1', '2', '3', '4']\n",
      "['4', '3', '2', '1']\n"
     ]
    }
   ],
   "source": [
    "len = int(input('Enter length of list: '))\n",
    "lst = []\n",
    "for i in range(len):\n",
    "  lst.append(input('Enter element: '))\n",
    "\n",
    "print(lst)\n",
    "lst = lst[::-1]\n",
    "print(lst)"
   ]
  },
  {
   "cell_type": "markdown",
   "metadata": {},
   "source": [
    "Find and display the largest number of a list without using built-in function max(). Your program should ask the user to input values in list from keyboard."
   ]
  },
  {
   "cell_type": "code",
   "execution_count": 33,
   "metadata": {},
   "outputs": [
    {
     "name": "stdout",
     "output_type": "stream",
     "text": [
      "[1, -4, 5, 6]\n",
      "Max: 6\n"
     ]
    }
   ],
   "source": [
    "len = int(input('Enter length of list: '))\n",
    "lst = [] # [1, 2, -4, 8, 5]\n",
    "for i in range(len):\n",
    "  lst.append(int(input('Enter integer: ')))\n",
    "\n",
    "print(lst)\n",
    "\n",
    "max = lst[0]\n",
    "for x in lst:\n",
    "  if (x > max):\n",
    "    max = x\n",
    "print('Max:', max)"
   ]
  },
  {
   "cell_type": "markdown",
   "metadata": {},
   "source": [
    "Write a program to print all elements in a list those have only single occurrence.\n",
    "Example: if contents of list is [7, 5, 5, 1, 6, 7, 8, 7, 6]. Your output should be: 1 8"
   ]
  },
  {
   "cell_type": "code",
   "execution_count": 34,
   "metadata": {},
   "outputs": [
    {
     "name": "stdout",
     "output_type": "stream",
     "text": [
      "[1, 2, 3, 4]\n",
      "1\n",
      "2\n",
      "3\n",
      "4\n"
     ]
    }
   ],
   "source": [
    "len = int(input('Enter length of list: '))\n",
    "lst = [] # [7, 5, 5, 1, 6, 7, 8, 7, 6]\n",
    "for i in range(len):\n",
    "  lst.append(int(input('Enter integer: ')))\n",
    "\n",
    "print(lst)\n",
    "freq = {}\n",
    "for x in lst:\n",
    "  freq[x] = freq.get(x, 0) + 1\n",
    "\n",
    "for key, value in freq.items():\n",
    "  if (value == 1):\n",
    "    print(key)"
   ]
  },
  {
   "cell_type": "code",
   "execution_count": 27,
   "metadata": {},
   "outputs": [
    {
     "data": {
      "text/plain": [
       "{1: 1, 2: 2, 3: 1}"
      ]
     },
     "execution_count": 27,
     "metadata": {},
     "output_type": "execute_result"
    }
   ],
   "source": [
    "lst = [1, 2, 2, 3]\n",
    "freq = {}\n",
    "for x in lst:\n",
    "  if x in freq:\n",
    "    freq[x] += 1\n",
    "  else:\n",
    "    freq[x] = 1\n",
    "freq"
   ]
  },
  {
   "cell_type": "code",
   "execution_count": 3,
   "metadata": {},
   "outputs": [
    {
     "name": "stdout",
     "output_type": "stream",
     "text": [
      "True\n"
     ]
    }
   ],
   "source": [
    "print(20 > 3)"
   ]
  },
  {
   "cell_type": "code",
   "execution_count": 4,
   "metadata": {},
   "outputs": [
    {
     "name": "stdout",
     "output_type": "stream",
     "text": [
      "True\n"
     ]
    }
   ],
   "source": [
    "print('$' in '@@$$abcd$@')"
   ]
  },
  {
   "cell_type": "code",
   "execution_count": null,
   "metadata": {},
   "outputs": [],
   "source": [
    "[for c in '@@$$abcd$@':]"
   ]
  }
 ],
 "metadata": {
  "kernelspec": {
   "display_name": "Python 3",
   "language": "python",
   "name": "python3"
  },
  "language_info": {
   "codemirror_mode": {
    "name": "ipython",
    "version": 3
   },
   "file_extension": ".py",
   "mimetype": "text/x-python",
   "name": "python",
   "nbconvert_exporter": "python",
   "pygments_lexer": "ipython3",
   "version": "3.11.4"
  }
 },
 "nbformat": 4,
 "nbformat_minor": 2
}
