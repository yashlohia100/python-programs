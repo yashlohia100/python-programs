{
 "cells": [
  {
   "cell_type": "code",
   "execution_count": 3,
   "metadata": {},
   "outputs": [],
   "source": [
    "def binarySearch(arr, key):\n",
    "  low = 0\n",
    "  high = len(arr) - 1\n",
    "  while (low <= high):\n",
    "    mid = (low + high) // 2\n",
    "\n",
    "    if (arr[mid] == key):\n",
    "      return mid\n",
    "    elif (key > arr[mid]):\n",
    "      low = mid + 1\n",
    "    else:\n",
    "      high = mid - 1\n"
   ]
  },
  {
   "cell_type": "code",
   "execution_count": 5,
   "metadata": {},
   "outputs": [
    {
     "data": {
      "text/plain": [
       "3"
      ]
     },
     "execution_count": 5,
     "metadata": {},
     "output_type": "execute_result"
    }
   ],
   "source": [
    "arr = [1, 3, 5, 7, 9]\n",
    "binarySearch(arr, 7)"
   ]
  },
  {
   "cell_type": "code",
   "execution_count": 10,
   "metadata": {},
   "outputs": [],
   "source": [
    "def insertionSort(arr):\n",
    "  for i in range(1, len(arr)):\n",
    "    key = arr[i]\n",
    "\n",
    "    j = i - 1\n",
    "    while (j >= 0 and arr[j] > key):\n",
    "      arr[j + 1] = arr[j]\n",
    "      j -= 1\n",
    "    \n",
    "    arr[j + 1] = key"
   ]
  },
  {
   "cell_type": "code",
   "execution_count": 11,
   "metadata": {},
   "outputs": [
    {
     "data": {
      "text/plain": [
       "[1, 2, 3, 4, 5, 6]"
      ]
     },
     "execution_count": 11,
     "metadata": {},
     "output_type": "execute_result"
    }
   ],
   "source": [
    "arr = [2, 4, 3, 1, 5, 6]\n",
    "insertionSort(arr)\n",
    "arr"
   ]
  },
  {
   "cell_type": "code",
   "execution_count": 6,
   "metadata": {},
   "outputs": [],
   "source": [
    "def bubbleSort(arr):\n",
    "  n = len(arr)\n",
    "  for i in range(0, n):\n",
    "    for j in range(0, n - 1 - i):\n",
    "      if (arr[j] > arr[j + 1]):\n",
    "        temp = arr[j]\n",
    "        arr[j] = arr[j + 1]\n",
    "        arr[j + 1] = temp"
   ]
  },
  {
   "cell_type": "code",
   "execution_count": 7,
   "metadata": {},
   "outputs": [
    {
     "data": {
      "text/plain": [
       "[0, 1, 2, 3, 4, 5, 6]"
      ]
     },
     "execution_count": 7,
     "metadata": {},
     "output_type": "execute_result"
    }
   ],
   "source": [
    "arr = [2, 4, 3, 1, 6, 5, 0]\n",
    "bubbleSort(arr)\n",
    "arr"
   ]
  },
  {
   "cell_type": "code",
   "execution_count": 8,
   "metadata": {},
   "outputs": [],
   "source": [
    "def selectionSort(arr):\n",
    "  n = len(arr)\n",
    "  for i in range(0, n):\n",
    "    min_idx = i\n",
    "    min = arr[i]\n",
    "    for j in range(i, n):\n",
    "      if (arr[j] < min):\n",
    "        min = arr[j]\n",
    "        min_idx = j\n",
    "    temp = arr[i]\n",
    "    arr[i] = arr[min_idx]\n",
    "    arr[min_idx] = temp\n"
   ]
  },
  {
   "cell_type": "code",
   "execution_count": 9,
   "metadata": {},
   "outputs": [
    {
     "data": {
      "text/plain": [
       "[0, 1, 2, 3, 4, 5, 6]"
      ]
     },
     "execution_count": 9,
     "metadata": {},
     "output_type": "execute_result"
    }
   ],
   "source": [
    "arr = [2, 4, 3, 1, 6, 5, 0]\n",
    "selectionSort(arr)\n",
    "arr"
   ]
  },
  {
   "cell_type": "code",
   "execution_count": null,
   "metadata": {},
   "outputs": [],
   "source": []
  }
 ],
 "metadata": {
  "kernelspec": {
   "display_name": "Python 3",
   "language": "python",
   "name": "python3"
  },
  "language_info": {
   "codemirror_mode": {
    "name": "ipython",
    "version": 3
   },
   "file_extension": ".py",
   "mimetype": "text/x-python",
   "name": "python",
   "nbconvert_exporter": "python",
   "pygments_lexer": "ipython3",
   "version": "3.11.4"
  }
 },
 "nbformat": 4,
 "nbformat_minor": 2
}
