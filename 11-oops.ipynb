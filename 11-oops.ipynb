{
 "cells": [
  {
   "cell_type": "code",
   "execution_count": 2,
   "metadata": {},
   "outputs": [
    {
     "name": "stdout",
     "output_type": "stream",
     "text": [
      "1 s 2\n"
     ]
    }
   ],
   "source": [
    "class Student:\n",
    "\n",
    "  def input(self):\n",
    "    self.rollno = int(input('Enter rollno: '))\n",
    "    self.name = input('Enter name: ')\n",
    "    self.marks = int(input('Enter marks: '))\n",
    "  \n",
    "  def output(self):\n",
    "    print(self.rollno, self.name, self.marks)\n",
    "  \n",
    "st = Student()\n",
    "st.input()\n",
    "st.output()"
   ]
  },
  {
   "cell_type": "code",
   "execution_count": 16,
   "metadata": {},
   "outputs": [
    {
     "name": "stdout",
     "output_type": "stream",
     "text": [
      "Rollno: 101, Name: Yash, Marks: [1, 2, 3, 4, 5]\n",
      "Average: 3.0\n",
      "\n",
      "Rollno: 102, Name: Ayush, Marks: [4, 5, 6, 7]\n",
      "5.5\n"
     ]
    }
   ],
   "source": [
    "class Student:\n",
    "  \n",
    "  def __init__(self, rollno, name, marks):\n",
    "    self.rollno = rollno\n",
    "    self.name = name\n",
    "    self.marks = marks\n",
    "  \n",
    "  def display(self):\n",
    "    # print(self.rollno, self.name, self.marks)\n",
    "    print('Rollno: {0}, Name: {1}, Marks: {2}'.format(self.rollno, self.name, self.marks))\n",
    "  \n",
    "  def average(self):\n",
    "    return sum(self.marks) / len(self.marks)\n",
    "  \n",
    "s1 = Student(101, \"Yash\", [1, 2, 3, 4, 5])\n",
    "s1.display()\n",
    "print(f'Average: {s1.average()}')\n",
    "print()\n",
    "\n",
    "s2 = Student(102, \"Ayush\", [4, 5, 6, 7])\n",
    "s2.display()\n",
    "print(s2.average())"
   ]
  },
  {
   "cell_type": "code",
   "execution_count": 17,
   "metadata": {},
   "outputs": [
    {
     "name": "stdout",
     "output_type": "stream",
     "text": [
      "101, Yash, [1, 2, 3, 4, 5]\n"
     ]
    }
   ],
   "source": [
    "class Student:\n",
    "  \n",
    "  def __init__(self, rollno, name, marks):\n",
    "    self.rollno = rollno\n",
    "    self.name = name\n",
    "    self.marks = marks\n",
    "  \n",
    "  def __str__(self):\n",
    "    return f'{self.rollno}, {self.name}, {self.marks}'\n",
    "  \n",
    "s1 = Student(101, \"Yash\", [1, 2, 3, 4, 5])\n",
    "print(s1)"
   ]
  },
  {
   "cell_type": "code",
   "execution_count": 40,
   "metadata": {},
   "outputs": [
    {
     "name": "stdout",
     "output_type": "stream",
     "text": [
      "Inside class B\n",
      "Test\n"
     ]
    }
   ],
   "source": [
    "class A:\n",
    "  v1 = 'Hello'\n",
    "\n",
    "  def __init__(self):\n",
    "    self.v1 = 'Inside class A'\n",
    "    self.v2 = 'Test'\n",
    "\n",
    "class B(A):\n",
    "  v1 = 'yash'\n",
    "\n",
    "  def __init__(self):\n",
    "    super().__init__()\n",
    "    self.v1 = 'Inside class B'\n",
    "\n",
    "a = A()\n",
    "b = B()\n",
    "print(b.v1)\n",
    "print(b.v2)"
   ]
  },
  {
   "cell_type": "code",
   "execution_count": 42,
   "metadata": {},
   "outputs": [
    {
     "name": "stdout",
     "output_type": "stream",
     "text": [
      "101, basic, 249, 4\n"
     ]
    }
   ],
   "source": [
    "class OTT:\n",
    "\n",
    "  def __init__(self, id, plan, payment):\n",
    "    self.id = id\n",
    "    self.plan = plan\n",
    "    self.payment = payment\n",
    "\n",
    "class Netflix(OTT):\n",
    "\n",
    "  def __init__(self, id, plan, payment, screens):\n",
    "    super().__init__(id, plan, payment)\n",
    "    self.screens = screens\n",
    "\n",
    "  def __str__(self):\n",
    "    return f'{self.id}, {self.plan}, {self.payment}, {self.screens}'\n",
    "\n",
    "nf = Netflix(101, 'basic', 249, 4)\n",
    "print(nf)"
   ]
  },
  {
   "cell_type": "code",
   "execution_count": null,
   "metadata": {},
   "outputs": [],
   "source": [
    "class Person:\n",
    "\n",
    "  def __init__(self, firstName, lastName, idNumber):\n",
    "    self.firstName = firstName\n",
    "    self.lastName = lastName\n",
    "    self.idNumber = idNumber\n",
    "\n",
    "  def printPerson(self):\n",
    "    print('Name:', self.firstName + ', ', self.lastName)\n",
    "    print('ID:', self.idNumber)\n",
    "\n",
    "class Student:\n",
    "\n",
    "  def __init__(self):\n",
    "    pass"
   ]
  }
 ],
 "metadata": {
  "kernelspec": {
   "display_name": "Python 3",
   "language": "python",
   "name": "python3"
  },
  "language_info": {
   "codemirror_mode": {
    "name": "ipython",
    "version": 3
   },
   "file_extension": ".py",
   "mimetype": "text/x-python",
   "name": "python",
   "nbconvert_exporter": "python",
   "pygments_lexer": "ipython3",
   "version": "3.11.4"
  }
 },
 "nbformat": 4,
 "nbformat_minor": 2
}
