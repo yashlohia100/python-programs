{
 "cells": [
  {
   "cell_type": "code",
   "execution_count": 1,
   "metadata": {},
   "outputs": [
    {
     "name": "stdout",
     "output_type": "stream",
     "text": [
      "[1, 2, 3, 4, 5, 6]\n",
      "[1, 2, 3, 4, 5, 6]\n",
      "[3, 4, 5, 6]\n",
      "[3, 4, 5]\n",
      "[3, 5]\n"
     ]
    }
   ],
   "source": [
    "l = [1, 2, 3, 4, 5, 6]\n",
    "print(l[:])\n",
    "print(l[::])\n",
    "print(l[2::])\n",
    "print(l[2:5:])\n",
    "print(l[2:5:2])"
   ]
  },
  {
   "cell_type": "code",
   "execution_count": 2,
   "metadata": {},
   "outputs": [
    {
     "name": "stdout",
     "output_type": "stream",
     "text": [
      "Max:  6\n",
      "Min:  -4\n"
     ]
    }
   ],
   "source": [
    "lt = []\n",
    "n = int(input(\"Enter the size: \"))\n",
    "\n",
    "for i in range(n):\n",
    "  ele = int(input(f\"Enter element {i}: \"))\n",
    "  lt.append(ele)\n",
    "\n",
    "print(\"Max: \", max(lt))\n",
    "print(\"Min: \", min(lt))"
   ]
  },
  {
   "cell_type": "markdown",
   "metadata": {},
   "source": [
    "#### Swap elements at given indices"
   ]
  },
  {
   "cell_type": "code",
   "execution_count": 3,
   "metadata": {},
   "outputs": [
    {
     "name": "stdout",
     "output_type": "stream",
     "text": [
      "[1, 5, 3, 4, 2]\n"
     ]
    }
   ],
   "source": [
    "lt = [1, 2, 3, 4, 5]\n",
    "i = int(input(\"Index 1: \"))\n",
    "j = int(input(\"Index 2: \"))\n",
    "\n",
    "temp = lt[i]\n",
    "lt[i] = lt[j]\n",
    "lt[j] = temp\n",
    "print(lt)"
   ]
  },
  {
   "cell_type": "markdown",
   "metadata": {},
   "source": [
    "#### Find sum of elements in a list"
   ]
  },
  {
   "cell_type": "code",
   "execution_count": 4,
   "metadata": {},
   "outputs": [
    {
     "name": "stdout",
     "output_type": "stream",
     "text": [
      "8\n",
      "2.0\n"
     ]
    }
   ],
   "source": [
    "lt = [-1, 2, 3, 4]\n",
    "sum = 0\n",
    "for x in lt:\n",
    "  sum += x\n",
    "print(sum)\n",
    "print(sum / len(lt))"
   ]
  },
  {
   "cell_type": "markdown",
   "metadata": {},
   "source": [
    "#### Count positive and negative numbers"
   ]
  },
  {
   "cell_type": "code",
   "execution_count": 5,
   "metadata": {},
   "outputs": [
    {
     "name": "stdout",
     "output_type": "stream",
     "text": [
      "Positive:  3\n",
      "Negative:  2\n"
     ]
    }
   ],
   "source": [
    "lt = [1, -2, 3, -5, 4]\n",
    "pos = 0\n",
    "neg = 0\n",
    "for x in lt:\n",
    "  if (x >= 0):\n",
    "    pos += 1\n",
    "  else:\n",
    "    neg += 1\n",
    "\n",
    "print(\"Positive: \", pos)\n",
    "print(\"Negative: \", neg)"
   ]
  },
  {
   "cell_type": "markdown",
   "metadata": {},
   "source": [
    "#### Create a list with unique elements (remove duplicates)"
   ]
  },
  {
   "cell_type": "code",
   "execution_count": 6,
   "metadata": {},
   "outputs": [
    {
     "name": "stdout",
     "output_type": "stream",
     "text": [
      "[4, 3, 6, 5]\n"
     ]
    }
   ],
   "source": [
    "lt = [4, 3, 6, 3, 5, 4]\n",
    "newList = []\n",
    "for x in lt:\n",
    "  if x not in newList:\n",
    "    newList.append(x)\n",
    "\n",
    "print(newList)"
   ]
  },
  {
   "cell_type": "markdown",
   "metadata": {},
   "source": [
    "#### Nested list"
   ]
  },
  {
   "cell_type": "code",
   "execution_count": 2,
   "metadata": {},
   "outputs": [
    {
     "name": "stdout",
     "output_type": "stream",
     "text": [
      "1 2 3 \n",
      "4 5 \n",
      "6 7 8 \n"
     ]
    }
   ],
   "source": [
    "l = [[1, 2, 3], [4, 5], [6, 7, 8]]\n",
    "for i in range(len(l)):\n",
    "  for j in range(len(l[i])):\n",
    "    print(l[i][j], end=' ')\n",
    "  print()"
   ]
  },
  {
   "cell_type": "code",
   "execution_count": 3,
   "metadata": {},
   "outputs": [
    {
     "name": "stdout",
     "output_type": "stream",
     "text": [
      "1 2 3 \n",
      "4 5 \n",
      "6 7 8 \n"
     ]
    }
   ],
   "source": [
    "lst = [[1, 2, 3], [4, 5], [6, 7, 8]]\n",
    "for l in lst:\n",
    "  for x in l:\n",
    "    print(x, end=' ')\n",
    "  print()"
   ]
  },
  {
   "cell_type": "markdown",
   "metadata": {},
   "source": [
    "#### Reversed list"
   ]
  },
  {
   "cell_type": "code",
   "execution_count": 5,
   "metadata": {},
   "outputs": [
    {
     "name": "stdout",
     "output_type": "stream",
     "text": [
      "8 7 6 \n",
      "5 4 \n",
      "3 2 1 \n"
     ]
    }
   ],
   "source": [
    "lst = [[1, 2, 3], [4, 5], [6, 7, 8]]\n",
    "lst.reverse()\n",
    "for l in lst:\n",
    "  l.reverse()\n",
    "  for x in l:\n",
    "    print(x, end=' ')\n",
    "  print()"
   ]
  },
  {
   "cell_type": "code",
   "execution_count": 6,
   "metadata": {},
   "outputs": [
    {
     "name": "stdout",
     "output_type": "stream",
     "text": [
      "8 7 6 \n",
      "5 4 \n",
      "3 2 1 \n"
     ]
    }
   ],
   "source": [
    "lst = [[1, 2, 3], [4, 5], [6, 7, 8]]\n",
    "for l in reversed(lst):\n",
    "  for x in reversed(l):\n",
    "    print(x, end=' ')\n",
    "  print()"
   ]
  },
  {
   "cell_type": "code",
   "execution_count": 8,
   "metadata": {},
   "outputs": [
    {
     "name": "stdout",
     "output_type": "stream",
     "text": [
      "8 7 6 \n",
      "5 4 \n",
      "3 2 1 \n"
     ]
    }
   ],
   "source": [
    "lst = [[1, 2, 3], [4, 5], [6, 7, 8]]\n",
    "for l in lst[::-1]:\n",
    "  for x in l[::-1]:\n",
    "    print(x, end=' ')\n",
    "  print()"
   ]
  },
  {
   "cell_type": "markdown",
   "metadata": {},
   "source": [
    "#### Transpose"
   ]
  },
  {
   "cell_type": "code",
   "execution_count": 10,
   "metadata": {},
   "outputs": [
    {
     "name": "stdout",
     "output_type": "stream",
     "text": [
      "1 4 7 \n",
      "2 5 8 \n",
      "3 6 9 \n"
     ]
    }
   ],
   "source": [
    "lst = [[1, 2, 3], [4, 5, 6], [7, 8, 9]]\n",
    "for i in range(len(lst)):\n",
    "  for j in range(len(lst[i])):\n",
    "    print(lst[j][i], end=' ')\n",
    "  print()"
   ]
  },
  {
   "cell_type": "code",
   "execution_count": 16,
   "metadata": {},
   "outputs": [
    {
     "name": "stdout",
     "output_type": "stream",
     "text": [
      "[[1, 2, 3], [4, 5, 6], [7, 8, 9]]\n",
      "1 4 7 \n",
      "2 5 8 \n",
      "3 6 9 \n"
     ]
    }
   ],
   "source": [
    "lst = []\n",
    "r = int(input('Enter rows: '))\n",
    "c = int(input('Enter columns: '))\n",
    "\n",
    "for i in range(r):\n",
    "  l = []\n",
    "  for j in range(c):\n",
    "    x = int(input('Enter element: '))\n",
    "    l.append(x)\n",
    "  lst.append(l)\n",
    "\n",
    "print(lst)\n",
    "\n",
    "for i in range(len(lst)):\n",
    "  for j in range(len(lst[i])):\n",
    "    print(lst[j][i], end=' ')\n",
    "  print()"
   ]
  },
  {
   "cell_type": "markdown",
   "metadata": {},
   "source": [
    "#### List comprehensions"
   ]
  },
  {
   "cell_type": "code",
   "execution_count": 3,
   "metadata": {},
   "outputs": [
    {
     "name": "stdout",
     "output_type": "stream",
     "text": [
      "[1, 3, 9, 27, 81, 243, 729, 2187, 6561, 19683]\n"
     ]
    }
   ],
   "source": [
    "pow2 = []\n",
    "for x in range(10):\n",
    "  pow2.append(3 ** x)\n",
    "print(pow2)"
   ]
  },
  {
   "cell_type": "code",
   "execution_count": 4,
   "metadata": {},
   "outputs": [
    {
     "name": "stdout",
     "output_type": "stream",
     "text": [
      "[1, 3, 9, 27, 81, 243, 729, 2187, 6561, 19683]\n"
     ]
    }
   ],
   "source": [
    "pow2 = [3 ** x for x in range(10)]\n",
    "print(pow2)"
   ]
  },
  {
   "cell_type": "code",
   "execution_count": 5,
   "metadata": {},
   "outputs": [
    {
     "data": {
      "text/plain": [
       "[0, 2, 4, 6, 8, 10, 12, 14, 16, 18]"
      ]
     },
     "execution_count": 5,
     "metadata": {},
     "output_type": "execute_result"
    }
   ],
   "source": [
    "list1 = [x for x in range(20) if x % 2 == 0]\n",
    "list1"
   ]
  },
  {
   "cell_type": "code",
   "execution_count": 6,
   "metadata": {},
   "outputs": [
    {
     "data": {
      "text/plain": [
       "['Even', 'Odd', 'Even', 'Odd', 'Even', 'Odd', 'Even', 'Odd', 'Even', 'Odd']"
      ]
     },
     "execution_count": 6,
     "metadata": {},
     "output_type": "execute_result"
    }
   ],
   "source": [
    "list2 = [\"Even\" if i % 2 == 0 else \"Odd\" for i in range(10)]\n",
    "list2"
   ]
  },
  {
   "cell_type": "code",
   "execution_count": 7,
   "metadata": {},
   "outputs": [
    {
     "data": {
      "text/plain": [
       "[5, 7, 9]"
      ]
     },
     "execution_count": 7,
     "metadata": {},
     "output_type": "execute_result"
    }
   ],
   "source": [
    "B = [[3, 4, 5], [6, 7, 8], [9, 10, 11]]\n",
    "[B[i][len(B) - 1 - i] for i in range(len(B))]"
   ]
  },
  {
   "cell_type": "code",
   "execution_count": null,
   "metadata": {},
   "outputs": [],
   "source": []
  }
 ],
 "metadata": {
  "kernelspec": {
   "display_name": "Python 3",
   "language": "python",
   "name": "python3"
  },
  "language_info": {
   "codemirror_mode": {
    "name": "ipython",
    "version": 3
   },
   "file_extension": ".py",
   "mimetype": "text/x-python",
   "name": "python",
   "nbconvert_exporter": "python",
   "pygments_lexer": "ipython3",
   "version": "3.11.4"
  }
 },
 "nbformat": 4,
 "nbformat_minor": 2
}
