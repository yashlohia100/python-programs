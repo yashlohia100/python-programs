{
 "cells": [
  {
   "cell_type": "code",
   "execution_count": 1,
   "metadata": {},
   "outputs": [
    {
     "name": "stdout",
     "output_type": "stream",
     "text": [
      "good\n",
      "doog\n"
     ]
    }
   ],
   "source": [
    "st = input(\"Enter string: \")\n",
    "print(st)\n",
    "print(st[::-1])"
   ]
  },
  {
   "cell_type": "code",
   "execution_count": 3,
   "metadata": {},
   "outputs": [
    {
     "name": "stdout",
     "output_type": "stream",
     "text": [
      "Palindrome\n"
     ]
    }
   ],
   "source": [
    "# st = input(\"Enter string: \")\n",
    "st = 'madam'\n",
    "rev_st = st[::-1]\n",
    "if (rev_st == st):\n",
    "  print(\"Palindrome\")\n",
    "else:\n",
    "  print(\"Not palindrome\")"
   ]
  },
  {
   "cell_type": "code",
   "execution_count": 5,
   "metadata": {},
   "outputs": [
    {
     "name": "stdout",
     "output_type": "stream",
     "text": [
      "coege\n"
     ]
    }
   ],
   "source": [
    "st = input(\"Enter string: \")\n",
    "char = input(\"Enter character to remove: \")\n",
    "st_res = st.replace(char, '')\n",
    "print(st_res)"
   ]
  },
  {
   "cell_type": "code",
   "execution_count": 6,
   "metadata": {},
   "outputs": [
    {
     "name": "stdout",
     "output_type": "stream",
     "text": [
      "Alphabets: 28\n",
      "Digits: 8\n",
      "Special symbol: 9\n",
      "Length: 45\n"
     ]
    }
   ],
   "source": [
    "st = 'NH-24, Delhi Hapur By pass Vijay Nagar 201009'\n",
    "alphabet = 0\n",
    "digit = 0\n",
    "symbol = 0\n",
    "for val in st:\n",
    "  if (val.isalpha()):\n",
    "    alphabet = alphabet + 1\n",
    "  elif (val.isdigit()):\n",
    "    digit = digit + 1\n",
    "  else:\n",
    "    symbol = symbol + 1\n",
    "print(f'Alphabets: {alphabet}')\n",
    "print(f'Digits: {digit}')\n",
    "print(f'Special symbol: {symbol}')\n",
    "print(f'Length: {len(st)}')"
   ]
  },
  {
   "cell_type": "code",
   "execution_count": 7,
   "metadata": {},
   "outputs": [
    {
     "name": "stdout",
     "output_type": "stream",
     "text": [
      "Vowels: 2\n",
      "Consonants: 5\n"
     ]
    }
   ],
   "source": [
    "st = 'Abcdefg'\n",
    "vowels = 0\n",
    "consonants = 0\n",
    "for ch in st:\n",
    "  if (ch.lower() in 'aeiou'):\n",
    "    vowels += 1\n",
    "  else:\n",
    "    consonants += 1\n",
    "print(f'Vowels: {vowels}')\n",
    "print(f'Consonants: {consonants}')"
   ]
  },
  {
   "cell_type": "code",
   "execution_count": null,
   "metadata": {},
   "outputs": [],
   "source": [
    "str1 = \"name\"\n",
    "str2 = \"mean\"\n",
    "for ch in str1:\n",
    "  if ch not in str2:\n",
    "    print(\"Not \")"
   ]
  }
 ],
 "metadata": {
  "kernelspec": {
   "display_name": "Python 3",
   "language": "python",
   "name": "python3"
  },
  "language_info": {
   "codemirror_mode": {
    "name": "ipython",
    "version": 3
   },
   "file_extension": ".py",
   "mimetype": "text/x-python",
   "name": "python",
   "nbconvert_exporter": "python",
   "pygments_lexer": "ipython3",
   "version": "3.11.4"
  }
 },
 "nbformat": 4,
 "nbformat_minor": 2
}
