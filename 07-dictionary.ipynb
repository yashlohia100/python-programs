{
 "cells": [
  {
   "cell_type": "code",
   "execution_count": 1,
   "metadata": {},
   "outputs": [
    {
     "data": {
      "text/plain": [
       "dict"
      ]
     },
     "execution_count": 1,
     "metadata": {},
     "output_type": "execute_result"
    }
   ],
   "source": [
    "dt = {}\n",
    "type(dt)"
   ]
  },
  {
   "cell_type": "code",
   "execution_count": 3,
   "metadata": {},
   "outputs": [
    {
     "name": "stdout",
     "output_type": "stream",
     "text": [
      "{'name': 'Yash', 'empno': 344}\n"
     ]
    }
   ],
   "source": [
    "dt = {\"name\": \"Yash\", \"empno\": 344}\n",
    "print(dt)"
   ]
  },
  {
   "cell_type": "code",
   "execution_count": 4,
   "metadata": {},
   "outputs": [
    {
     "name": "stdout",
     "output_type": "stream",
     "text": [
      "1893041816576\n",
      "1893041816576\n"
     ]
    }
   ],
   "source": [
    "dt2 = dt\n",
    "print(id(dt))\n",
    "print(id(dt2))"
   ]
  },
  {
   "cell_type": "code",
   "execution_count": 6,
   "metadata": {},
   "outputs": [
    {
     "name": "stdout",
     "output_type": "stream",
     "text": [
      "1893041816576\n",
      "1893041506496\n"
     ]
    }
   ],
   "source": [
    "dt3 = dt.copy()\n",
    "print(id(dt))\n",
    "print(id(dt3))"
   ]
  },
  {
   "cell_type": "markdown",
   "metadata": {},
   "source": [
    "#### Sum all the items in a dictionary"
   ]
  },
  {
   "cell_type": "code",
   "execution_count": 8,
   "metadata": {},
   "outputs": [
    {
     "name": "stdout",
     "output_type": "stream",
     "text": [
      "1\n",
      "2\n",
      "3\n"
     ]
    }
   ],
   "source": [
    "dt = {'a': 1, 'b': 2}\n",
    "sum = 0\n",
    "for key in dt.keys():\n",
    "  print(dt[key])\n",
    "  sum += dt[key]\n",
    "print(sum)"
   ]
  },
  {
   "cell_type": "code",
   "execution_count": 10,
   "metadata": {},
   "outputs": [
    {
     "name": "stdout",
     "output_type": "stream",
     "text": [
      "3\n"
     ]
    }
   ],
   "source": [
    "dt = {'a': 1, 'b': 2}\n",
    "sum = 0\n",
    "for val in dt.values():\n",
    "  sum += val\n",
    "print(sum)"
   ]
  },
  {
   "cell_type": "code",
   "execution_count": 9,
   "metadata": {},
   "outputs": [
    {
     "name": "stdout",
     "output_type": "stream",
     "text": [
      "{0: 'B', 1: 'C', 2: 'D'}\n"
     ]
    }
   ],
   "source": [
    "grades = {}\n",
    "n = int(input('Enter number of students: '))\n",
    "for i in range(n):\n",
    "  maths = int(input('Enter marks in maths: '))\n",
    "  science = int(input('Enter marks in science: '))\n",
    "  english = int(input('Enter marks in english: '))\n",
    "  avg = (maths + science + english) // 3\n",
    "\n",
    "  grade = ''\n",
    "  if (avg >= 90):\n",
    "    grade = 'A'\n",
    "  elif (avg > 80):\n",
    "    grade = 'B'\n",
    "  elif (avg > 70):\n",
    "    grade = 'C'\n",
    "  elif (avg > 60):\n",
    "    grade = 'D'\n",
    "  else:\n",
    "    grade = 'F'\n",
    "  \n",
    "  grades[i] = grade\n",
    "print(grades)"
   ]
  },
  {
   "cell_type": "code",
   "execution_count": 1,
   "metadata": {},
   "outputs": [
    {
     "data": {
      "text/plain": [
       "{'name': 'Yash', 'age': 21, 'marks': {'x': 21, 'y': 25, 'z': 22}}"
      ]
     },
     "execution_count": 1,
     "metadata": {},
     "output_type": "execute_result"
    }
   ],
   "source": [
    "student = {\n",
    "  'name': 'Yash',\n",
    "  'age': 21,\n",
    "  'marks': {\n",
    "    'x': 21,\n",
    "    'y': 25,\n",
    "    'z': 22\n",
    "  }\n",
    "}\n",
    "student"
   ]
  },
  {
   "cell_type": "code",
   "execution_count": null,
   "metadata": {},
   "outputs": [],
   "source": []
  }
 ],
 "metadata": {
  "kernelspec": {
   "display_name": "Python 3",
   "language": "python",
   "name": "python3"
  },
  "language_info": {
   "codemirror_mode": {
    "name": "ipython",
    "version": 3
   },
   "file_extension": ".py",
   "mimetype": "text/x-python",
   "name": "python",
   "nbconvert_exporter": "python",
   "pygments_lexer": "ipython3",
   "version": "3.11.4"
  }
 },
 "nbformat": 4,
 "nbformat_minor": 2
}
